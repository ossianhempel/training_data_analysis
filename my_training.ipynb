{
 "cells": [
  {
   "cell_type": "code",
   "execution_count": 1,
   "id": "b2539a14",
   "metadata": {},
   "outputs": [],
   "source": [
    "import numpy as np\n",
    "import pandas as pd\n",
    "import seaborn as sns\n",
    "import matplotlib.pyplot as plt"
   ]
  },
  {
   "cell_type": "code",
   "execution_count": 2,
   "id": "f6158d94",
   "metadata": {},
   "outputs": [],
   "source": [
    "df = pd.read_csv('/Users/ossianhempel/1 Projects/my_training_analysis/my_training.csv', error_bad_lines=False, sep = \";\")"
   ]
  },
  {
   "cell_type": "markdown",
   "id": "e9ca915e",
   "metadata": {},
   "source": [
    "# 1.0 Inspecting the Data"
   ]
  },
  {
   "cell_type": "code",
   "execution_count": 3,
   "id": "da2fdacd",
   "metadata": {},
   "outputs": [
    {
     "data": {
      "text/plain": [
       "(26622, 12)"
      ]
     },
     "execution_count": 3,
     "metadata": {},
     "output_type": "execute_result"
    }
   ],
   "source": [
    "df.shape"
   ]
  },
  {
   "cell_type": "code",
   "execution_count": 4,
   "id": "831783f3",
   "metadata": {
    "scrolled": true
   },
   "outputs": [
    {
     "data": {
      "text/html": [
       "<div>\n",
       "<style scoped>\n",
       "    .dataframe tbody tr th:only-of-type {\n",
       "        vertical-align: middle;\n",
       "    }\n",
       "\n",
       "    .dataframe tbody tr th {\n",
       "        vertical-align: top;\n",
       "    }\n",
       "\n",
       "    .dataframe thead th {\n",
       "        text-align: right;\n",
       "    }\n",
       "</style>\n",
       "<table border=\"1\" class=\"dataframe\">\n",
       "  <thead>\n",
       "    <tr style=\"text-align: right;\">\n",
       "      <th></th>\n",
       "      <th>Starttid</th>\n",
       "      <th>Sluttid</th>\n",
       "      <th>Övning</th>\n",
       "      <th>Vikt</th>\n",
       "      <th>Reps</th>\n",
       "      <th>Anteckningar</th>\n",
       "      <th>Kcal</th>\n",
       "      <th>Distans</th>\n",
       "      <th>Tid</th>\n",
       "      <th>Kategori</th>\n",
       "      <th>Namn</th>\n",
       "      <th>Kroppsvikt</th>\n",
       "    </tr>\n",
       "  </thead>\n",
       "  <tbody>\n",
       "    <tr>\n",
       "      <th>0</th>\n",
       "      <td>2022-11-07 11:47</td>\n",
       "      <td>2022-11-07 12:29</td>\n",
       "      <td>Incline Bench Press 30’</td>\n",
       "      <td>65.0</td>\n",
       "      <td>9.0</td>\n",
       "      <td>Blev typ 3rir igen, glömde öka till 2rir/+1 (f...</td>\n",
       "      <td>NaN</td>\n",
       "      <td>NaN</td>\n",
       "      <td>NaN</td>\n",
       "      <td>Chest</td>\n",
       "      <td>Lunch 1</td>\n",
       "      <td>82.85</td>\n",
       "    </tr>\n",
       "    <tr>\n",
       "      <th>1</th>\n",
       "      <td>2022-11-07 11:47</td>\n",
       "      <td>2022-11-07 12:29</td>\n",
       "      <td>Incline Bench Press 30’</td>\n",
       "      <td>65.0</td>\n",
       "      <td>8.0</td>\n",
       "      <td>Över steg 8</td>\n",
       "      <td>NaN</td>\n",
       "      <td>NaN</td>\n",
       "      <td>NaN</td>\n",
       "      <td>Chest</td>\n",
       "      <td>Lunch 1</td>\n",
       "      <td>82.85</td>\n",
       "    </tr>\n",
       "    <tr>\n",
       "      <th>2</th>\n",
       "      <td>2022-11-07 11:47</td>\n",
       "      <td>2022-11-07 12:29</td>\n",
       "      <td>Incline Bench Press 30’</td>\n",
       "      <td>65.0</td>\n",
       "      <td>7.0</td>\n",
       "      <td>NaN</td>\n",
       "      <td>NaN</td>\n",
       "      <td>NaN</td>\n",
       "      <td>NaN</td>\n",
       "      <td>Chest</td>\n",
       "      <td>Lunch 1</td>\n",
       "      <td>82.85</td>\n",
       "    </tr>\n",
       "    <tr>\n",
       "      <th>3</th>\n",
       "      <td>2022-11-07 11:47</td>\n",
       "      <td>2022-11-07 12:29</td>\n",
       "      <td>Pull Up</td>\n",
       "      <td>0.0</td>\n",
       "      <td>12.0</td>\n",
       "      <td>+1</td>\n",
       "      <td>NaN</td>\n",
       "      <td>NaN</td>\n",
       "      <td>NaN</td>\n",
       "      <td>Back</td>\n",
       "      <td>Lunch 1</td>\n",
       "      <td>82.85</td>\n",
       "    </tr>\n",
       "    <tr>\n",
       "      <th>4</th>\n",
       "      <td>2022-11-07 11:47</td>\n",
       "      <td>2022-11-07 12:29</td>\n",
       "      <td>Pull Up</td>\n",
       "      <td>0.0</td>\n",
       "      <td>9.0</td>\n",
       "      <td>NaN</td>\n",
       "      <td>NaN</td>\n",
       "      <td>NaN</td>\n",
       "      <td>NaN</td>\n",
       "      <td>Back</td>\n",
       "      <td>Lunch 1</td>\n",
       "      <td>82.85</td>\n",
       "    </tr>\n",
       "  </tbody>\n",
       "</table>\n",
       "</div>"
      ],
      "text/plain": [
       "           Starttid           Sluttid                   Övning  Vikt  Reps  \\\n",
       "0  2022-11-07 11:47  2022-11-07 12:29  Incline Bench Press 30’  65.0   9.0   \n",
       "1  2022-11-07 11:47  2022-11-07 12:29  Incline Bench Press 30’  65.0   8.0   \n",
       "2  2022-11-07 11:47  2022-11-07 12:29  Incline Bench Press 30’  65.0   7.0   \n",
       "3  2022-11-07 11:47  2022-11-07 12:29                  Pull Up   0.0  12.0   \n",
       "4  2022-11-07 11:47  2022-11-07 12:29                  Pull Up   0.0   9.0   \n",
       "\n",
       "                                        Anteckningar  Kcal  Distans  Tid  \\\n",
       "0  Blev typ 3rir igen, glömde öka till 2rir/+1 (f...   NaN      NaN  NaN   \n",
       "1                                        Över steg 8   NaN      NaN  NaN   \n",
       "2                                                NaN   NaN      NaN  NaN   \n",
       "3                                                 +1   NaN      NaN  NaN   \n",
       "4                                                NaN   NaN      NaN  NaN   \n",
       "\n",
       "  Kategori     Namn  Kroppsvikt  \n",
       "0    Chest  Lunch 1       82.85  \n",
       "1    Chest  Lunch 1       82.85  \n",
       "2    Chest  Lunch 1       82.85  \n",
       "3     Back  Lunch 1       82.85  \n",
       "4     Back  Lunch 1       82.85  "
      ]
     },
     "execution_count": 4,
     "metadata": {},
     "output_type": "execute_result"
    }
   ],
   "source": [
    "df.head(5)"
   ]
  },
  {
   "cell_type": "code",
   "execution_count": 5,
   "id": "711df228",
   "metadata": {},
   "outputs": [
    {
     "data": {
      "text/html": [
       "<div>\n",
       "<style scoped>\n",
       "    .dataframe tbody tr th:only-of-type {\n",
       "        vertical-align: middle;\n",
       "    }\n",
       "\n",
       "    .dataframe tbody tr th {\n",
       "        vertical-align: top;\n",
       "    }\n",
       "\n",
       "    .dataframe thead th {\n",
       "        text-align: right;\n",
       "    }\n",
       "</style>\n",
       "<table border=\"1\" class=\"dataframe\">\n",
       "  <thead>\n",
       "    <tr style=\"text-align: right;\">\n",
       "      <th></th>\n",
       "      <th>Starttid</th>\n",
       "      <th>Sluttid</th>\n",
       "      <th>Övning</th>\n",
       "      <th>Vikt</th>\n",
       "      <th>Reps</th>\n",
       "      <th>Anteckningar</th>\n",
       "      <th>Kcal</th>\n",
       "      <th>Distans</th>\n",
       "      <th>Tid</th>\n",
       "      <th>Kategori</th>\n",
       "      <th>Namn</th>\n",
       "      <th>Kroppsvikt</th>\n",
       "    </tr>\n",
       "  </thead>\n",
       "  <tbody>\n",
       "    <tr>\n",
       "      <th>26617</th>\n",
       "      <td>2016-02-18 20:45</td>\n",
       "      <td>NaN</td>\n",
       "      <td>Single Cable Lateral Raise</td>\n",
       "      <td>2.5</td>\n",
       "      <td>12.0</td>\n",
       "      <td>NaN</td>\n",
       "      <td>NaN</td>\n",
       "      <td>NaN</td>\n",
       "      <td>NaN</td>\n",
       "      <td>Delts</td>\n",
       "      <td>Push</td>\n",
       "      <td>NaN</td>\n",
       "    </tr>\n",
       "    <tr>\n",
       "      <th>26618</th>\n",
       "      <td>2016-02-18 20:45</td>\n",
       "      <td>NaN</td>\n",
       "      <td>Single Cable Lateral Raise</td>\n",
       "      <td>2.5</td>\n",
       "      <td>12.0</td>\n",
       "      <td>NaN</td>\n",
       "      <td>NaN</td>\n",
       "      <td>NaN</td>\n",
       "      <td>NaN</td>\n",
       "      <td>Delts</td>\n",
       "      <td>Push</td>\n",
       "      <td>NaN</td>\n",
       "    </tr>\n",
       "    <tr>\n",
       "      <th>26619</th>\n",
       "      <td>2016-02-18 20:45</td>\n",
       "      <td>NaN</td>\n",
       "      <td>Pushdowns</td>\n",
       "      <td>32.5</td>\n",
       "      <td>12.0</td>\n",
       "      <td>NaN</td>\n",
       "      <td>NaN</td>\n",
       "      <td>NaN</td>\n",
       "      <td>NaN</td>\n",
       "      <td>Triceps</td>\n",
       "      <td>Push</td>\n",
       "      <td>NaN</td>\n",
       "    </tr>\n",
       "    <tr>\n",
       "      <th>26620</th>\n",
       "      <td>2016-02-18 20:45</td>\n",
       "      <td>NaN</td>\n",
       "      <td>Pushdowns</td>\n",
       "      <td>32.5</td>\n",
       "      <td>10.0</td>\n",
       "      <td>NaN</td>\n",
       "      <td>NaN</td>\n",
       "      <td>NaN</td>\n",
       "      <td>NaN</td>\n",
       "      <td>Triceps</td>\n",
       "      <td>Push</td>\n",
       "      <td>NaN</td>\n",
       "    </tr>\n",
       "    <tr>\n",
       "      <th>26621</th>\n",
       "      <td>2016-02-18 20:45</td>\n",
       "      <td>NaN</td>\n",
       "      <td>Pushdowns</td>\n",
       "      <td>32.5</td>\n",
       "      <td>8.0</td>\n",
       "      <td>NaN</td>\n",
       "      <td>NaN</td>\n",
       "      <td>NaN</td>\n",
       "      <td>NaN</td>\n",
       "      <td>Triceps</td>\n",
       "      <td>Push</td>\n",
       "      <td>NaN</td>\n",
       "    </tr>\n",
       "  </tbody>\n",
       "</table>\n",
       "</div>"
      ],
      "text/plain": [
       "               Starttid Sluttid                      Övning  Vikt  Reps  \\\n",
       "26617  2016-02-18 20:45     NaN  Single Cable Lateral Raise   2.5  12.0   \n",
       "26618  2016-02-18 20:45     NaN  Single Cable Lateral Raise   2.5  12.0   \n",
       "26619  2016-02-18 20:45     NaN                   Pushdowns  32.5  12.0   \n",
       "26620  2016-02-18 20:45     NaN                   Pushdowns  32.5  10.0   \n",
       "26621  2016-02-18 20:45     NaN                   Pushdowns  32.5   8.0   \n",
       "\n",
       "      Anteckningar  Kcal  Distans  Tid Kategori  Namn  Kroppsvikt  \n",
       "26617          NaN   NaN      NaN  NaN    Delts  Push         NaN  \n",
       "26618          NaN   NaN      NaN  NaN    Delts  Push         NaN  \n",
       "26619          NaN   NaN      NaN  NaN  Triceps  Push         NaN  \n",
       "26620          NaN   NaN      NaN  NaN  Triceps  Push         NaN  \n",
       "26621          NaN   NaN      NaN  NaN  Triceps  Push         NaN  "
      ]
     },
     "execution_count": 5,
     "metadata": {},
     "output_type": "execute_result"
    }
   ],
   "source": [
    "df.tail()"
   ]
  },
  {
   "cell_type": "code",
   "execution_count": 6,
   "id": "39b18549",
   "metadata": {},
   "outputs": [],
   "source": [
    "training_data = df.copy()"
   ]
  },
  {
   "cell_type": "markdown",
   "id": "72368e4e",
   "metadata": {},
   "source": [
    "# 2.0 Cleaning"
   ]
  },
  {
   "cell_type": "markdown",
   "id": "d587d592",
   "metadata": {},
   "source": [
    "## Renaming "
   ]
  },
  {
   "cell_type": "code",
   "execution_count": 7,
   "id": "cb4aa1c5",
   "metadata": {},
   "outputs": [],
   "source": [
    "training_data.rename(columns={'Starttid': 'Datum', 'Kategori': 'Muskelgrupp'}, inplace=True)"
   ]
  },
  {
   "cell_type": "code",
   "execution_count": 8,
   "id": "1d011e3f",
   "metadata": {},
   "outputs": [
    {
     "data": {
      "text/html": [
       "<div>\n",
       "<style scoped>\n",
       "    .dataframe tbody tr th:only-of-type {\n",
       "        vertical-align: middle;\n",
       "    }\n",
       "\n",
       "    .dataframe tbody tr th {\n",
       "        vertical-align: top;\n",
       "    }\n",
       "\n",
       "    .dataframe thead th {\n",
       "        text-align: right;\n",
       "    }\n",
       "</style>\n",
       "<table border=\"1\" class=\"dataframe\">\n",
       "  <thead>\n",
       "    <tr style=\"text-align: right;\">\n",
       "      <th></th>\n",
       "      <th>Datum</th>\n",
       "      <th>Sluttid</th>\n",
       "      <th>Övning</th>\n",
       "      <th>Vikt</th>\n",
       "      <th>Reps</th>\n",
       "      <th>Anteckningar</th>\n",
       "      <th>Kcal</th>\n",
       "      <th>Distans</th>\n",
       "      <th>Tid</th>\n",
       "      <th>Muskelgrupp</th>\n",
       "      <th>Namn</th>\n",
       "      <th>Kroppsvikt</th>\n",
       "    </tr>\n",
       "  </thead>\n",
       "  <tbody>\n",
       "    <tr>\n",
       "      <th>0</th>\n",
       "      <td>2022-11-07 11:47</td>\n",
       "      <td>2022-11-07 12:29</td>\n",
       "      <td>Incline Bench Press 30’</td>\n",
       "      <td>65.0</td>\n",
       "      <td>9.0</td>\n",
       "      <td>Blev typ 3rir igen, glömde öka till 2rir/+1 (f...</td>\n",
       "      <td>NaN</td>\n",
       "      <td>NaN</td>\n",
       "      <td>NaN</td>\n",
       "      <td>Chest</td>\n",
       "      <td>Lunch 1</td>\n",
       "      <td>82.85</td>\n",
       "    </tr>\n",
       "    <tr>\n",
       "      <th>1</th>\n",
       "      <td>2022-11-07 11:47</td>\n",
       "      <td>2022-11-07 12:29</td>\n",
       "      <td>Incline Bench Press 30’</td>\n",
       "      <td>65.0</td>\n",
       "      <td>8.0</td>\n",
       "      <td>Över steg 8</td>\n",
       "      <td>NaN</td>\n",
       "      <td>NaN</td>\n",
       "      <td>NaN</td>\n",
       "      <td>Chest</td>\n",
       "      <td>Lunch 1</td>\n",
       "      <td>82.85</td>\n",
       "    </tr>\n",
       "    <tr>\n",
       "      <th>2</th>\n",
       "      <td>2022-11-07 11:47</td>\n",
       "      <td>2022-11-07 12:29</td>\n",
       "      <td>Incline Bench Press 30’</td>\n",
       "      <td>65.0</td>\n",
       "      <td>7.0</td>\n",
       "      <td>NaN</td>\n",
       "      <td>NaN</td>\n",
       "      <td>NaN</td>\n",
       "      <td>NaN</td>\n",
       "      <td>Chest</td>\n",
       "      <td>Lunch 1</td>\n",
       "      <td>82.85</td>\n",
       "    </tr>\n",
       "    <tr>\n",
       "      <th>3</th>\n",
       "      <td>2022-11-07 11:47</td>\n",
       "      <td>2022-11-07 12:29</td>\n",
       "      <td>Pull Up</td>\n",
       "      <td>0.0</td>\n",
       "      <td>12.0</td>\n",
       "      <td>+1</td>\n",
       "      <td>NaN</td>\n",
       "      <td>NaN</td>\n",
       "      <td>NaN</td>\n",
       "      <td>Back</td>\n",
       "      <td>Lunch 1</td>\n",
       "      <td>82.85</td>\n",
       "    </tr>\n",
       "    <tr>\n",
       "      <th>4</th>\n",
       "      <td>2022-11-07 11:47</td>\n",
       "      <td>2022-11-07 12:29</td>\n",
       "      <td>Pull Up</td>\n",
       "      <td>0.0</td>\n",
       "      <td>9.0</td>\n",
       "      <td>NaN</td>\n",
       "      <td>NaN</td>\n",
       "      <td>NaN</td>\n",
       "      <td>NaN</td>\n",
       "      <td>Back</td>\n",
       "      <td>Lunch 1</td>\n",
       "      <td>82.85</td>\n",
       "    </tr>\n",
       "  </tbody>\n",
       "</table>\n",
       "</div>"
      ],
      "text/plain": [
       "              Datum           Sluttid                   Övning  Vikt  Reps  \\\n",
       "0  2022-11-07 11:47  2022-11-07 12:29  Incline Bench Press 30’  65.0   9.0   \n",
       "1  2022-11-07 11:47  2022-11-07 12:29  Incline Bench Press 30’  65.0   8.0   \n",
       "2  2022-11-07 11:47  2022-11-07 12:29  Incline Bench Press 30’  65.0   7.0   \n",
       "3  2022-11-07 11:47  2022-11-07 12:29                  Pull Up   0.0  12.0   \n",
       "4  2022-11-07 11:47  2022-11-07 12:29                  Pull Up   0.0   9.0   \n",
       "\n",
       "                                        Anteckningar  Kcal  Distans  Tid  \\\n",
       "0  Blev typ 3rir igen, glömde öka till 2rir/+1 (f...   NaN      NaN  NaN   \n",
       "1                                        Över steg 8   NaN      NaN  NaN   \n",
       "2                                                NaN   NaN      NaN  NaN   \n",
       "3                                                 +1   NaN      NaN  NaN   \n",
       "4                                                NaN   NaN      NaN  NaN   \n",
       "\n",
       "  Muskelgrupp     Namn  Kroppsvikt  \n",
       "0       Chest  Lunch 1       82.85  \n",
       "1       Chest  Lunch 1       82.85  \n",
       "2       Chest  Lunch 1       82.85  \n",
       "3        Back  Lunch 1       82.85  \n",
       "4        Back  Lunch 1       82.85  "
      ]
     },
     "execution_count": 8,
     "metadata": {},
     "output_type": "execute_result"
    }
   ],
   "source": [
    "training_data.head(5)"
   ]
  },
  {
   "cell_type": "code",
   "execution_count": 9,
   "id": "85a708d8",
   "metadata": {},
   "outputs": [
    {
     "data": {
      "text/plain": [
       "Datum           26622\n",
       "Sluttid         14526\n",
       "Övning          26621\n",
       "Vikt            26403\n",
       "Reps            26441\n",
       "Anteckningar     7411\n",
       "Kcal             5045\n",
       "Distans          5047\n",
       "Tid              5081\n",
       "Muskelgrupp     26622\n",
       "Namn            26622\n",
       "Kroppsvikt      18742\n",
       "dtype: int64"
      ]
     },
     "execution_count": 9,
     "metadata": {},
     "output_type": "execute_result"
    }
   ],
   "source": [
    "training_data.count()"
   ]
  },
  {
   "cell_type": "markdown",
   "id": "68547142",
   "metadata": {},
   "source": [
    "## Parsing Dates"
   ]
  },
  {
   "cell_type": "code",
   "execution_count": 10,
   "id": "24247be8",
   "metadata": {},
   "outputs": [
    {
     "data": {
      "text/plain": [
       "0        11\n",
       "1        11\n",
       "2        11\n",
       "3        11\n",
       "4        11\n",
       "         ..\n",
       "26617     2\n",
       "26618     2\n",
       "26619     2\n",
       "26620     2\n",
       "26621     2\n",
       "Name: parsed_dates, Length: 26622, dtype: int64"
      ]
     },
     "execution_count": 10,
     "metadata": {},
     "output_type": "execute_result"
    }
   ],
   "source": [
    "training_data['parsed_dates'] = pd.to_datetime(training_data['Datum'], format=\"%Y/%m/%d\") \n",
    "training_data['parsed_dates'].dt.month"
   ]
  },
  {
   "cell_type": "markdown",
   "id": "ac97a06b",
   "metadata": {},
   "source": [
    "## Missing Data"
   ]
  },
  {
   "cell_type": "code",
   "execution_count": null,
   "id": "115a7a21",
   "metadata": {},
   "outputs": [],
   "source": []
  },
  {
   "cell_type": "markdown",
   "id": "75ac5f32",
   "metadata": {},
   "source": [
    "# 3.0 Feature Engineering"
   ]
  },
  {
   "cell_type": "markdown",
   "id": "a68ac448",
   "metadata": {},
   "source": [
    "Create a two new columns for volume, one measured as sets and one by weight*reps"
   ]
  },
  {
   "cell_type": "markdown",
   "id": "ee99cd4f",
   "metadata": {},
   "source": [
    "Would also like some way of measuring volume per bodypart ('Kategori') per day.\n",
    "This would be easiest if I first have a way to merge the the dates of the same day but then I need to create separate columns for the \"Kategori\" options and merge those values for each day as well."
   ]
  },
  {
   "cell_type": "markdown",
   "id": "d11b44e1",
   "metadata": {},
   "source": [
    "New column for volume (weight*reps):"
   ]
  },
  {
   "cell_type": "code",
   "execution_count": 11,
   "id": "8e80d757",
   "metadata": {},
   "outputs": [],
   "source": [
    "training_data['Volym'] = df['Vikt'] * df['Reps']"
   ]
  },
  {
   "cell_type": "code",
   "execution_count": 12,
   "id": "e264e358",
   "metadata": {},
   "outputs": [
    {
     "data": {
      "text/plain": [
       "array(['Chest', 'Back', 'Triceps', 'Biceps', 'Hamstrings',\n",
       "       'Quads & Glutes', 'Delts', 'Abs', 'Calves', 'Traps', 'Forearms',\n",
       "       'Cardio', 'Övriga', 'Calisthenics'], dtype=object)"
      ]
     },
     "execution_count": 12,
     "metadata": {},
     "output_type": "execute_result"
    }
   ],
   "source": [
    "training_data['Muskelgrupp'].unique()"
   ]
  },
  {
   "cell_type": "code",
   "execution_count": 13,
   "id": "ddb13ccd",
   "metadata": {},
   "outputs": [],
   "source": [
    "# Function that adds a column for a unique value stored in \"Muskelgrupp\" and dummy codes it\n",
    "def add_column_per_muscle(muskelgrupp, dataframe):\n",
    "    temporary_df = dataframe.loc[dataframe['Muskelgrupp'] == muskelgrupp]\n",
    "    dataframe[muskelgrupp] = temporary_df['Muskelgrupp']\n",
    "    training_data[muskelgrupp] = training_data[muskelgrupp].apply(lambda x: 1 if x == muskelgrupp else 0)"
   ]
  },
  {
   "cell_type": "code",
   "execution_count": 14,
   "id": "a175ea1b",
   "metadata": {
    "scrolled": false
   },
   "outputs": [
    {
     "data": {
      "text/html": [
       "<div>\n",
       "<style scoped>\n",
       "    .dataframe tbody tr th:only-of-type {\n",
       "        vertical-align: middle;\n",
       "    }\n",
       "\n",
       "    .dataframe tbody tr th {\n",
       "        vertical-align: top;\n",
       "    }\n",
       "\n",
       "    .dataframe thead th {\n",
       "        text-align: right;\n",
       "    }\n",
       "</style>\n",
       "<table border=\"1\" class=\"dataframe\">\n",
       "  <thead>\n",
       "    <tr style=\"text-align: right;\">\n",
       "      <th></th>\n",
       "      <th>Datum</th>\n",
       "      <th>Sluttid</th>\n",
       "      <th>Övning</th>\n",
       "      <th>Vikt</th>\n",
       "      <th>Reps</th>\n",
       "      <th>Anteckningar</th>\n",
       "      <th>Kcal</th>\n",
       "      <th>Distans</th>\n",
       "      <th>Tid</th>\n",
       "      <th>Muskelgrupp</th>\n",
       "      <th>...</th>\n",
       "      <th>Hamstrings</th>\n",
       "      <th>Quads &amp; Glutes</th>\n",
       "      <th>Delts</th>\n",
       "      <th>Abs</th>\n",
       "      <th>Calves</th>\n",
       "      <th>Traps</th>\n",
       "      <th>Forearms</th>\n",
       "      <th>Cardio</th>\n",
       "      <th>Övriga</th>\n",
       "      <th>Calisthenics</th>\n",
       "    </tr>\n",
       "  </thead>\n",
       "  <tbody>\n",
       "    <tr>\n",
       "      <th>26617</th>\n",
       "      <td>2016-02-18 20:45</td>\n",
       "      <td>NaN</td>\n",
       "      <td>Single Cable Lateral Raise</td>\n",
       "      <td>2.5</td>\n",
       "      <td>12.0</td>\n",
       "      <td>NaN</td>\n",
       "      <td>NaN</td>\n",
       "      <td>NaN</td>\n",
       "      <td>NaN</td>\n",
       "      <td>Delts</td>\n",
       "      <td>...</td>\n",
       "      <td>0</td>\n",
       "      <td>0</td>\n",
       "      <td>1</td>\n",
       "      <td>0</td>\n",
       "      <td>0</td>\n",
       "      <td>0</td>\n",
       "      <td>0</td>\n",
       "      <td>0</td>\n",
       "      <td>0</td>\n",
       "      <td>0</td>\n",
       "    </tr>\n",
       "    <tr>\n",
       "      <th>26618</th>\n",
       "      <td>2016-02-18 20:45</td>\n",
       "      <td>NaN</td>\n",
       "      <td>Single Cable Lateral Raise</td>\n",
       "      <td>2.5</td>\n",
       "      <td>12.0</td>\n",
       "      <td>NaN</td>\n",
       "      <td>NaN</td>\n",
       "      <td>NaN</td>\n",
       "      <td>NaN</td>\n",
       "      <td>Delts</td>\n",
       "      <td>...</td>\n",
       "      <td>0</td>\n",
       "      <td>0</td>\n",
       "      <td>1</td>\n",
       "      <td>0</td>\n",
       "      <td>0</td>\n",
       "      <td>0</td>\n",
       "      <td>0</td>\n",
       "      <td>0</td>\n",
       "      <td>0</td>\n",
       "      <td>0</td>\n",
       "    </tr>\n",
       "    <tr>\n",
       "      <th>26619</th>\n",
       "      <td>2016-02-18 20:45</td>\n",
       "      <td>NaN</td>\n",
       "      <td>Pushdowns</td>\n",
       "      <td>32.5</td>\n",
       "      <td>12.0</td>\n",
       "      <td>NaN</td>\n",
       "      <td>NaN</td>\n",
       "      <td>NaN</td>\n",
       "      <td>NaN</td>\n",
       "      <td>Triceps</td>\n",
       "      <td>...</td>\n",
       "      <td>0</td>\n",
       "      <td>0</td>\n",
       "      <td>0</td>\n",
       "      <td>0</td>\n",
       "      <td>0</td>\n",
       "      <td>0</td>\n",
       "      <td>0</td>\n",
       "      <td>0</td>\n",
       "      <td>0</td>\n",
       "      <td>0</td>\n",
       "    </tr>\n",
       "    <tr>\n",
       "      <th>26620</th>\n",
       "      <td>2016-02-18 20:45</td>\n",
       "      <td>NaN</td>\n",
       "      <td>Pushdowns</td>\n",
       "      <td>32.5</td>\n",
       "      <td>10.0</td>\n",
       "      <td>NaN</td>\n",
       "      <td>NaN</td>\n",
       "      <td>NaN</td>\n",
       "      <td>NaN</td>\n",
       "      <td>Triceps</td>\n",
       "      <td>...</td>\n",
       "      <td>0</td>\n",
       "      <td>0</td>\n",
       "      <td>0</td>\n",
       "      <td>0</td>\n",
       "      <td>0</td>\n",
       "      <td>0</td>\n",
       "      <td>0</td>\n",
       "      <td>0</td>\n",
       "      <td>0</td>\n",
       "      <td>0</td>\n",
       "    </tr>\n",
       "    <tr>\n",
       "      <th>26621</th>\n",
       "      <td>2016-02-18 20:45</td>\n",
       "      <td>NaN</td>\n",
       "      <td>Pushdowns</td>\n",
       "      <td>32.5</td>\n",
       "      <td>8.0</td>\n",
       "      <td>NaN</td>\n",
       "      <td>NaN</td>\n",
       "      <td>NaN</td>\n",
       "      <td>NaN</td>\n",
       "      <td>Triceps</td>\n",
       "      <td>...</td>\n",
       "      <td>0</td>\n",
       "      <td>0</td>\n",
       "      <td>0</td>\n",
       "      <td>0</td>\n",
       "      <td>0</td>\n",
       "      <td>0</td>\n",
       "      <td>0</td>\n",
       "      <td>0</td>\n",
       "      <td>0</td>\n",
       "      <td>0</td>\n",
       "    </tr>\n",
       "  </tbody>\n",
       "</table>\n",
       "<p>5 rows × 28 columns</p>\n",
       "</div>"
      ],
      "text/plain": [
       "                  Datum Sluttid                      Övning  Vikt  Reps  \\\n",
       "26617  2016-02-18 20:45     NaN  Single Cable Lateral Raise   2.5  12.0   \n",
       "26618  2016-02-18 20:45     NaN  Single Cable Lateral Raise   2.5  12.0   \n",
       "26619  2016-02-18 20:45     NaN                   Pushdowns  32.5  12.0   \n",
       "26620  2016-02-18 20:45     NaN                   Pushdowns  32.5  10.0   \n",
       "26621  2016-02-18 20:45     NaN                   Pushdowns  32.5   8.0   \n",
       "\n",
       "      Anteckningar  Kcal  Distans  Tid Muskelgrupp  ... Hamstrings  \\\n",
       "26617          NaN   NaN      NaN  NaN       Delts  ...          0   \n",
       "26618          NaN   NaN      NaN  NaN       Delts  ...          0   \n",
       "26619          NaN   NaN      NaN  NaN     Triceps  ...          0   \n",
       "26620          NaN   NaN      NaN  NaN     Triceps  ...          0   \n",
       "26621          NaN   NaN      NaN  NaN     Triceps  ...          0   \n",
       "\n",
       "       Quads & Glutes Delts  Abs  Calves  Traps  Forearms  Cardio  Övriga  \\\n",
       "26617               0     1    0       0      0         0       0       0   \n",
       "26618               0     1    0       0      0         0       0       0   \n",
       "26619               0     0    0       0      0         0       0       0   \n",
       "26620               0     0    0       0      0         0       0       0   \n",
       "26621               0     0    0       0      0         0       0       0   \n",
       "\n",
       "       Calisthenics  \n",
       "26617             0  \n",
       "26618             0  \n",
       "26619             0  \n",
       "26620             0  \n",
       "26621             0  \n",
       "\n",
       "[5 rows x 28 columns]"
      ]
     },
     "execution_count": 14,
     "metadata": {},
     "output_type": "execute_result"
    }
   ],
   "source": [
    "# Loop through the column \"Muskelgrupp\" to add a new column for every unique value\n",
    "for muscle in training_data['Muskelgrupp'].unique():\n",
    "    add_column_per_muscle(muscle, training_data)\n",
    "    \n",
    "training_data.tail()"
   ]
  },
  {
   "cell_type": "code",
   "execution_count": 15,
   "id": "0272ee49",
   "metadata": {
    "scrolled": true
   },
   "outputs": [],
   "source": [
    "# Dropping columns not needed for the analysis\n",
    "training_data = training_data.drop(['Anteckningar', 'Namn', 'Sluttid', 'Forearms', 'Cardio', 'Övriga', 'Calisthenics', 'Kcal', 'Distans', 'Tid'], axis=1)"
   ]
  },
  {
   "cell_type": "code",
   "execution_count": 16,
   "id": "87039193",
   "metadata": {
    "scrolled": true
   },
   "outputs": [
    {
     "data": {
      "text/plain": [
       "26617    1\n",
       "26618    1\n",
       "26619    1\n",
       "26620    1\n",
       "26621    1\n",
       "Name: Set, dtype: int64"
      ]
     },
     "execution_count": 16,
     "metadata": {},
     "output_type": "execute_result"
    }
   ],
   "source": [
    "# Create a new column for training volume based on number of sets (used in aggregations)\n",
    "training_data['Set'] = 1\n",
    "\n",
    "training_data['Set'].tail(5)"
   ]
  },
  {
   "cell_type": "code",
   "execution_count": 17,
   "id": "69c738c2",
   "metadata": {
    "scrolled": false
   },
   "outputs": [
    {
     "name": "stdout",
     "output_type": "stream",
     "text": [
      "                 Datum     Muskelgrupp   Vikt  Reps  Kroppsvikt   Volym  Set\n",
      "0     2016-02-18 20:45           Chest  255.0  47.0         NaN  2010.0    6\n",
      "1     2016-02-18 20:45           Delts   10.0  48.0         NaN   120.0    4\n",
      "2     2016-02-18 20:45         Triceps   97.5  30.0         NaN   975.0    3\n",
      "3     2016-02-19 13:00            Back   75.0  60.0         NaN   750.0    6\n",
      "4     2016-02-19 13:00          Biceps   37.5  30.0         NaN   375.0    3\n",
      "...                ...             ...    ...   ...         ...     ...  ...\n",
      "5960  2022-11-05 13:18  Quads & Glutes  165.0  49.0       82.75  2695.0    3\n",
      "5961  2022-11-07 11:47            Back    0.0  28.0       82.85     0.0    3\n",
      "5962  2022-11-07 11:47          Biceps   81.0  29.0       82.85   783.0    3\n",
      "5963  2022-11-07 11:47           Chest  195.0  24.0       82.85  1560.0    3\n",
      "5964  2022-11-07 11:47         Triceps    0.0  33.0       82.85     0.0    3\n",
      "\n",
      "[5965 rows x 7 columns]\n"
     ]
    }
   ],
   "source": [
    "# Defining how the columns I'm not grouping around are gonna be aggregated\n",
    "agg_functions = {'Vikt': 'sum', 'Reps': 'sum', 'Kroppsvikt': 'first', 'Volym': 'sum', 'Set': 'sum'}\n",
    "\n",
    "# Grouping by Date and Muscle group\n",
    "training_data_aggregated = training_data.groupby(['Datum', 'Muskelgrupp']).agg(agg_functions)\n",
    "training_data_aggregated = training_data_aggregated.reset_index()\n",
    "\n",
    "print(training_data_aggregated)"
   ]
  },
  {
   "cell_type": "code",
   "execution_count": 18,
   "id": "d1f6f1d7",
   "metadata": {},
   "outputs": [],
   "source": [
    "# Adding year and month to each row\n",
    "training_data['year'] = training_data['parsed_dates'].dt.year\n",
    "training_data['month'] = training_data['parsed_dates'].dt.month\n",
    "training_data['week'] = training_data['parsed_dates'].dt.isocalendar().week"
   ]
  },
  {
   "cell_type": "code",
   "execution_count": 19,
   "id": "89c17413",
   "metadata": {},
   "outputs": [
    {
     "data": {
      "text/html": [
       "<div>\n",
       "<style scoped>\n",
       "    .dataframe tbody tr th:only-of-type {\n",
       "        vertical-align: middle;\n",
       "    }\n",
       "\n",
       "    .dataframe tbody tr th {\n",
       "        vertical-align: top;\n",
       "    }\n",
       "\n",
       "    .dataframe thead th {\n",
       "        text-align: right;\n",
       "    }\n",
       "</style>\n",
       "<table border=\"1\" class=\"dataframe\">\n",
       "  <thead>\n",
       "    <tr style=\"text-align: right;\">\n",
       "      <th></th>\n",
       "      <th>Datum</th>\n",
       "      <th>Övning</th>\n",
       "      <th>Vikt</th>\n",
       "      <th>Reps</th>\n",
       "      <th>Muskelgrupp</th>\n",
       "      <th>Kroppsvikt</th>\n",
       "      <th>parsed_dates</th>\n",
       "      <th>Volym</th>\n",
       "      <th>Chest</th>\n",
       "      <th>Back</th>\n",
       "      <th>...</th>\n",
       "      <th>Hamstrings</th>\n",
       "      <th>Quads &amp; Glutes</th>\n",
       "      <th>Delts</th>\n",
       "      <th>Abs</th>\n",
       "      <th>Calves</th>\n",
       "      <th>Traps</th>\n",
       "      <th>Set</th>\n",
       "      <th>year</th>\n",
       "      <th>month</th>\n",
       "      <th>week</th>\n",
       "    </tr>\n",
       "  </thead>\n",
       "  <tbody>\n",
       "    <tr>\n",
       "      <th>0</th>\n",
       "      <td>2022-11-07 11:47</td>\n",
       "      <td>Incline Bench Press 30’</td>\n",
       "      <td>65.0</td>\n",
       "      <td>9.0</td>\n",
       "      <td>Chest</td>\n",
       "      <td>82.85</td>\n",
       "      <td>2022-11-07 11:47:00</td>\n",
       "      <td>585.0</td>\n",
       "      <td>1</td>\n",
       "      <td>0</td>\n",
       "      <td>...</td>\n",
       "      <td>0</td>\n",
       "      <td>0</td>\n",
       "      <td>0</td>\n",
       "      <td>0</td>\n",
       "      <td>0</td>\n",
       "      <td>0</td>\n",
       "      <td>1</td>\n",
       "      <td>2022</td>\n",
       "      <td>11</td>\n",
       "      <td>45</td>\n",
       "    </tr>\n",
       "    <tr>\n",
       "      <th>1</th>\n",
       "      <td>2022-11-07 11:47</td>\n",
       "      <td>Incline Bench Press 30’</td>\n",
       "      <td>65.0</td>\n",
       "      <td>8.0</td>\n",
       "      <td>Chest</td>\n",
       "      <td>82.85</td>\n",
       "      <td>2022-11-07 11:47:00</td>\n",
       "      <td>520.0</td>\n",
       "      <td>1</td>\n",
       "      <td>0</td>\n",
       "      <td>...</td>\n",
       "      <td>0</td>\n",
       "      <td>0</td>\n",
       "      <td>0</td>\n",
       "      <td>0</td>\n",
       "      <td>0</td>\n",
       "      <td>0</td>\n",
       "      <td>1</td>\n",
       "      <td>2022</td>\n",
       "      <td>11</td>\n",
       "      <td>45</td>\n",
       "    </tr>\n",
       "    <tr>\n",
       "      <th>2</th>\n",
       "      <td>2022-11-07 11:47</td>\n",
       "      <td>Incline Bench Press 30’</td>\n",
       "      <td>65.0</td>\n",
       "      <td>7.0</td>\n",
       "      <td>Chest</td>\n",
       "      <td>82.85</td>\n",
       "      <td>2022-11-07 11:47:00</td>\n",
       "      <td>455.0</td>\n",
       "      <td>1</td>\n",
       "      <td>0</td>\n",
       "      <td>...</td>\n",
       "      <td>0</td>\n",
       "      <td>0</td>\n",
       "      <td>0</td>\n",
       "      <td>0</td>\n",
       "      <td>0</td>\n",
       "      <td>0</td>\n",
       "      <td>1</td>\n",
       "      <td>2022</td>\n",
       "      <td>11</td>\n",
       "      <td>45</td>\n",
       "    </tr>\n",
       "    <tr>\n",
       "      <th>3</th>\n",
       "      <td>2022-11-07 11:47</td>\n",
       "      <td>Pull Up</td>\n",
       "      <td>0.0</td>\n",
       "      <td>12.0</td>\n",
       "      <td>Back</td>\n",
       "      <td>82.85</td>\n",
       "      <td>2022-11-07 11:47:00</td>\n",
       "      <td>0.0</td>\n",
       "      <td>0</td>\n",
       "      <td>1</td>\n",
       "      <td>...</td>\n",
       "      <td>0</td>\n",
       "      <td>0</td>\n",
       "      <td>0</td>\n",
       "      <td>0</td>\n",
       "      <td>0</td>\n",
       "      <td>0</td>\n",
       "      <td>1</td>\n",
       "      <td>2022</td>\n",
       "      <td>11</td>\n",
       "      <td>45</td>\n",
       "    </tr>\n",
       "    <tr>\n",
       "      <th>4</th>\n",
       "      <td>2022-11-07 11:47</td>\n",
       "      <td>Pull Up</td>\n",
       "      <td>0.0</td>\n",
       "      <td>9.0</td>\n",
       "      <td>Back</td>\n",
       "      <td>82.85</td>\n",
       "      <td>2022-11-07 11:47:00</td>\n",
       "      <td>0.0</td>\n",
       "      <td>0</td>\n",
       "      <td>1</td>\n",
       "      <td>...</td>\n",
       "      <td>0</td>\n",
       "      <td>0</td>\n",
       "      <td>0</td>\n",
       "      <td>0</td>\n",
       "      <td>0</td>\n",
       "      <td>0</td>\n",
       "      <td>1</td>\n",
       "      <td>2022</td>\n",
       "      <td>11</td>\n",
       "      <td>45</td>\n",
       "    </tr>\n",
       "  </tbody>\n",
       "</table>\n",
       "<p>5 rows × 22 columns</p>\n",
       "</div>"
      ],
      "text/plain": [
       "              Datum                   Övning  Vikt  Reps Muskelgrupp  \\\n",
       "0  2022-11-07 11:47  Incline Bench Press 30’  65.0   9.0       Chest   \n",
       "1  2022-11-07 11:47  Incline Bench Press 30’  65.0   8.0       Chest   \n",
       "2  2022-11-07 11:47  Incline Bench Press 30’  65.0   7.0       Chest   \n",
       "3  2022-11-07 11:47                  Pull Up   0.0  12.0        Back   \n",
       "4  2022-11-07 11:47                  Pull Up   0.0   9.0        Back   \n",
       "\n",
       "   Kroppsvikt        parsed_dates  Volym  Chest  Back  ...  Hamstrings  \\\n",
       "0       82.85 2022-11-07 11:47:00  585.0      1     0  ...           0   \n",
       "1       82.85 2022-11-07 11:47:00  520.0      1     0  ...           0   \n",
       "2       82.85 2022-11-07 11:47:00  455.0      1     0  ...           0   \n",
       "3       82.85 2022-11-07 11:47:00    0.0      0     1  ...           0   \n",
       "4       82.85 2022-11-07 11:47:00    0.0      0     1  ...           0   \n",
       "\n",
       "   Quads & Glutes  Delts  Abs  Calves  Traps  Set  year  month  week  \n",
       "0               0      0    0       0      0    1  2022     11    45  \n",
       "1               0      0    0       0      0    1  2022     11    45  \n",
       "2               0      0    0       0      0    1  2022     11    45  \n",
       "3               0      0    0       0      0    1  2022     11    45  \n",
       "4               0      0    0       0      0    1  2022     11    45  \n",
       "\n",
       "[5 rows x 22 columns]"
      ]
     },
     "execution_count": 19,
     "metadata": {},
     "output_type": "execute_result"
    }
   ],
   "source": [
    "training_data.head()"
   ]
  },
  {
   "cell_type": "markdown",
   "id": "634ee3c6",
   "metadata": {},
   "source": [
    "# 3.0 Exploratory Data Analysis"
   ]
  },
  {
   "cell_type": "markdown",
   "id": "c37ff524",
   "metadata": {},
   "source": [
    "## Training volume "
   ]
  },
  {
   "cell_type": "markdown",
   "id": "6854d837",
   "metadata": {},
   "source": [
    "### Which months do I train the most (based on training volume)?"
   ]
  },
  {
   "cell_type": "code",
   "execution_count": 20,
   "id": "5c45abd1",
   "metadata": {},
   "outputs": [],
   "source": [
    "aggregated_by_month = training_data.groupby(training_data['month']).sum()\n",
    "#print(aggregated_by_month)"
   ]
  },
  {
   "cell_type": "code",
   "execution_count": 21,
   "id": "66be7b52",
   "metadata": {},
   "outputs": [
    {
     "name": "stdout",
     "output_type": "stream",
     "text": [
      "month\n",
      "1     2302\n",
      "2     2776\n",
      "3     2938\n",
      "4     2220\n",
      "5     2717\n",
      "6     2274\n",
      "7     2058\n",
      "8     1761\n",
      "9     1489\n",
      "10    1917\n",
      "11    2178\n",
      "12    1992\n",
      "Name: Set, dtype: int64\n"
     ]
    }
   ],
   "source": [
    "num_sets_per_month = aggregated_by_month['Set']\n",
    "print(num_sets_per_month)"
   ]
  },
  {
   "cell_type": "code",
   "execution_count": 22,
   "id": "d05108f1",
   "metadata": {},
   "outputs": [
    {
     "data": {
      "text/plain": [
       "<Figure size 1008x432 with 0 Axes>"
      ]
     },
     "execution_count": 22,
     "metadata": {},
     "output_type": "execute_result"
    },
    {
     "data": {
      "image/png": "[encoded data removed]",
      "text/plain": [
       "<Figure size 432x288 with 1 Axes>"
      ]
     },
     "metadata": {
      "needs_background": "light"
     },
     "output_type": "display_data"
    },
    {
     "data": {
      "text/plain": [
       "<Figure size 1008x432 with 0 Axes>"
      ]
     },
     "metadata": {},
     "output_type": "display_data"
    }
   ],
   "source": [
    "# Plot number of sets per month \n",
    "sns.barplot(x=num_sets_per_month.index, y=num_sets_per_month)\n",
    "plt.title(\"Number of sets per month\")\n",
    "plt.figure(figsize=(14,6))\n"
   ]
  },
  {
   "cell_type": "code",
   "execution_count": 23,
   "id": "c7d7f217",
   "metadata": {},
   "outputs": [
    {
     "name": "stdout",
     "output_type": "stream",
     "text": [
      "month\n",
      "1      997912.50\n",
      "2     1235601.90\n",
      "3     1295550.55\n",
      "4      999257.50\n",
      "5     1138599.90\n",
      "6      975758.00\n",
      "7      934520.50\n",
      "8      763694.00\n",
      "9      664489.20\n",
      "10     820825.60\n",
      "11     964096.25\n",
      "12     906333.25\n",
      "Name: Volym, dtype: float64\n"
     ]
    }
   ],
   "source": [
    "volume_per_month = aggregated_by_month['Volym']\n",
    "print(volume_per_month)"
   ]
  },
  {
   "cell_type": "code",
   "execution_count": 24,
   "id": "98379024",
   "metadata": {},
   "outputs": [
    {
     "data": {
      "text/plain": [
       "<Figure size 1008x432 with 0 Axes>"
      ]
     },
     "execution_count": 24,
     "metadata": {},
     "output_type": "execute_result"
    },
    {
     "data": {
      "image/png": "[encoded data removed]",
      "text/plain": [
       "<Figure size 432x288 with 1 Axes>"
      ]
     },
     "metadata": {
      "needs_background": "light"
     },
     "output_type": "display_data"
    },
    {
     "data": {
      "text/plain": [
       "<Figure size 1008x432 with 0 Axes>"
      ]
     },
     "metadata": {},
     "output_type": "display_data"
    }
   ],
   "source": [
    "# Plot training volume per month \n",
    "sns.barplot(x=volume_per_month.index, y=volume_per_month)\n",
    "plt.title(\"Volume per month\")\n",
    "plt.figure(figsize=(14,6))"
   ]
  },
  {
   "cell_type": "code",
   "execution_count": 25,
   "id": "11c46d9a",
   "metadata": {},
   "outputs": [],
   "source": [
    "# Creating a dictionary which stores the workout data per year\n",
    "workout_data_per_year = {}\n",
    "\n",
    "for year in range(2016, 2023):\n",
    "    workout_data_per_year[year] = training_data.loc[training_data['year'] == year]\n",
    "     "
   ]
  },
  {
   "cell_type": "code",
   "execution_count": 26,
   "id": "90696aaf",
   "metadata": {},
   "outputs": [
    {
     "data": {
      "text/html": [
       "<div>\n",
       "<style scoped>\n",
       "    .dataframe tbody tr th:only-of-type {\n",
       "        vertical-align: middle;\n",
       "    }\n",
       "\n",
       "    .dataframe tbody tr th {\n",
       "        vertical-align: top;\n",
       "    }\n",
       "\n",
       "    .dataframe thead th {\n",
       "        text-align: right;\n",
       "    }\n",
       "</style>\n",
       "<table border=\"1\" class=\"dataframe\">\n",
       "  <thead>\n",
       "    <tr style=\"text-align: right;\">\n",
       "      <th></th>\n",
       "      <th>Datum</th>\n",
       "      <th>Övning</th>\n",
       "      <th>Vikt</th>\n",
       "      <th>Reps</th>\n",
       "      <th>Muskelgrupp</th>\n",
       "      <th>Kroppsvikt</th>\n",
       "      <th>parsed_dates</th>\n",
       "      <th>Volym</th>\n",
       "      <th>Chest</th>\n",
       "      <th>Back</th>\n",
       "      <th>...</th>\n",
       "      <th>Hamstrings</th>\n",
       "      <th>Quads &amp; Glutes</th>\n",
       "      <th>Delts</th>\n",
       "      <th>Abs</th>\n",
       "      <th>Calves</th>\n",
       "      <th>Traps</th>\n",
       "      <th>Set</th>\n",
       "      <th>year</th>\n",
       "      <th>month</th>\n",
       "      <th>week</th>\n",
       "    </tr>\n",
       "  </thead>\n",
       "  <tbody>\n",
       "    <tr>\n",
       "      <th>2401</th>\n",
       "      <td>2021-12-30 13:00</td>\n",
       "      <td>Pull Up</td>\n",
       "      <td>0.0</td>\n",
       "      <td>10.0</td>\n",
       "      <td>Back</td>\n",
       "      <td>84.35</td>\n",
       "      <td>2021-12-30 13:00:00</td>\n",
       "      <td>0.0</td>\n",
       "      <td>0</td>\n",
       "      <td>1</td>\n",
       "      <td>...</td>\n",
       "      <td>0</td>\n",
       "      <td>0</td>\n",
       "      <td>0</td>\n",
       "      <td>0</td>\n",
       "      <td>0</td>\n",
       "      <td>0</td>\n",
       "      <td>1</td>\n",
       "      <td>2021</td>\n",
       "      <td>12</td>\n",
       "      <td>52</td>\n",
       "    </tr>\n",
       "    <tr>\n",
       "      <th>2402</th>\n",
       "      <td>2021-12-30 13:00</td>\n",
       "      <td>Pull Up</td>\n",
       "      <td>0.0</td>\n",
       "      <td>7.0</td>\n",
       "      <td>Back</td>\n",
       "      <td>84.35</td>\n",
       "      <td>2021-12-30 13:00:00</td>\n",
       "      <td>0.0</td>\n",
       "      <td>0</td>\n",
       "      <td>1</td>\n",
       "      <td>...</td>\n",
       "      <td>0</td>\n",
       "      <td>0</td>\n",
       "      <td>0</td>\n",
       "      <td>0</td>\n",
       "      <td>0</td>\n",
       "      <td>0</td>\n",
       "      <td>1</td>\n",
       "      <td>2021</td>\n",
       "      <td>12</td>\n",
       "      <td>52</td>\n",
       "    </tr>\n",
       "    <tr>\n",
       "      <th>2403</th>\n",
       "      <td>2021-12-30 13:00</td>\n",
       "      <td>Dips</td>\n",
       "      <td>0.0</td>\n",
       "      <td>14.0</td>\n",
       "      <td>Triceps</td>\n",
       "      <td>84.35</td>\n",
       "      <td>2021-12-30 13:00:00</td>\n",
       "      <td>0.0</td>\n",
       "      <td>0</td>\n",
       "      <td>0</td>\n",
       "      <td>...</td>\n",
       "      <td>0</td>\n",
       "      <td>0</td>\n",
       "      <td>0</td>\n",
       "      <td>0</td>\n",
       "      <td>0</td>\n",
       "      <td>0</td>\n",
       "      <td>1</td>\n",
       "      <td>2021</td>\n",
       "      <td>12</td>\n",
       "      <td>52</td>\n",
       "    </tr>\n",
       "    <tr>\n",
       "      <th>2404</th>\n",
       "      <td>2021-12-30 13:00</td>\n",
       "      <td>Dips</td>\n",
       "      <td>0.0</td>\n",
       "      <td>12.0</td>\n",
       "      <td>Triceps</td>\n",
       "      <td>84.35</td>\n",
       "      <td>2021-12-30 13:00:00</td>\n",
       "      <td>0.0</td>\n",
       "      <td>0</td>\n",
       "      <td>0</td>\n",
       "      <td>...</td>\n",
       "      <td>0</td>\n",
       "      <td>0</td>\n",
       "      <td>0</td>\n",
       "      <td>0</td>\n",
       "      <td>0</td>\n",
       "      <td>0</td>\n",
       "      <td>1</td>\n",
       "      <td>2021</td>\n",
       "      <td>12</td>\n",
       "      <td>52</td>\n",
       "    </tr>\n",
       "    <tr>\n",
       "      <th>2405</th>\n",
       "      <td>2021-12-30 13:00</td>\n",
       "      <td>Seated Stack Leg Press</td>\n",
       "      <td>100.0</td>\n",
       "      <td>14.0</td>\n",
       "      <td>Quads &amp; Glutes</td>\n",
       "      <td>84.35</td>\n",
       "      <td>2021-12-30 13:00:00</td>\n",
       "      <td>1400.0</td>\n",
       "      <td>0</td>\n",
       "      <td>0</td>\n",
       "      <td>...</td>\n",
       "      <td>0</td>\n",
       "      <td>1</td>\n",
       "      <td>0</td>\n",
       "      <td>0</td>\n",
       "      <td>0</td>\n",
       "      <td>0</td>\n",
       "      <td>1</td>\n",
       "      <td>2021</td>\n",
       "      <td>12</td>\n",
       "      <td>52</td>\n",
       "    </tr>\n",
       "  </tbody>\n",
       "</table>\n",
       "<p>5 rows × 22 columns</p>\n",
       "</div>"
      ],
      "text/plain": [
       "                 Datum                  Övning   Vikt  Reps     Muskelgrupp  \\\n",
       "2401  2021-12-30 13:00                 Pull Up    0.0  10.0            Back   \n",
       "2402  2021-12-30 13:00                 Pull Up    0.0   7.0            Back   \n",
       "2403  2021-12-30 13:00                    Dips    0.0  14.0         Triceps   \n",
       "2404  2021-12-30 13:00                    Dips    0.0  12.0         Triceps   \n",
       "2405  2021-12-30 13:00  Seated Stack Leg Press  100.0  14.0  Quads & Glutes   \n",
       "\n",
       "      Kroppsvikt        parsed_dates   Volym  Chest  Back  ...  Hamstrings  \\\n",
       "2401       84.35 2021-12-30 13:00:00     0.0      0     1  ...           0   \n",
       "2402       84.35 2021-12-30 13:00:00     0.0      0     1  ...           0   \n",
       "2403       84.35 2021-12-30 13:00:00     0.0      0     0  ...           0   \n",
       "2404       84.35 2021-12-30 13:00:00     0.0      0     0  ...           0   \n",
       "2405       84.35 2021-12-30 13:00:00  1400.0      0     0  ...           0   \n",
       "\n",
       "      Quads & Glutes  Delts  Abs  Calves  Traps  Set  year  month  week  \n",
       "2401               0      0    0       0      0    1  2021     12    52  \n",
       "2402               0      0    0       0      0    1  2021     12    52  \n",
       "2403               0      0    0       0      0    1  2021     12    52  \n",
       "2404               0      0    0       0      0    1  2021     12    52  \n",
       "2405               1      0    0       0      0    1  2021     12    52  \n",
       "\n",
       "[5 rows x 22 columns]"
      ]
     },
     "execution_count": 26,
     "metadata": {},
     "output_type": "execute_result"
    }
   ],
   "source": [
    "workout_data_per_year[2021].head()"
   ]
  },
  {
   "cell_type": "code",
   "execution_count": 27,
   "id": "98b714cc",
   "metadata": {},
   "outputs": [],
   "source": [
    "training_data_2021_aggregated = workout_data_per_year[2021].groupby('month').sum()\n",
    "#print(training_data_2021_aggregated)"
   ]
  },
  {
   "cell_type": "code",
   "execution_count": 28,
   "id": "f7c8a83e",
   "metadata": {},
   "outputs": [
    {
     "data": {
      "text/plain": [
       "<Figure size 1008x432 with 0 Axes>"
      ]
     },
     "execution_count": 28,
     "metadata": {},
     "output_type": "execute_result"
    },
    {
     "data": {
      "image/png": "[encoded data removed]",
      "text/plain": [
       "<Figure size 432x288 with 1 Axes>"
      ]
     },
     "metadata": {
      "needs_background": "light"
     },
     "output_type": "display_data"
    },
    {
     "data": {
      "text/plain": [
       "<Figure size 1008x432 with 0 Axes>"
      ]
     },
     "metadata": {},
     "output_type": "display_data"
    }
   ],
   "source": [
    "# Check if the same trends applied in 2021\n",
    "sns.barplot(x=training_data_2021_aggregated.index, y=training_data_2021_aggregated['Set'])\n",
    "plt.title(\"Number of sets per month in 2021\")\n",
    "plt.figure(figsize=(14,6))"
   ]
  },
  {
   "cell_type": "markdown",
   "id": "1227d04f",
   "metadata": {},
   "source": [
    "**Conclusion:**\n",
    "- Under these years (2016-2022), I've had the highest training volume during February/March. This may be since I'm usually deep in the bulk during these months and training hard therefore.\n",
    "\n",
    "- The volume drops off from May through the summer, and bottoms out in September. \n",
    "\n",
    "- There's also a drop-off in April which may be due to me doing some longer deload phases before going into the cut during May and the summer.\n",
    "\n",
    "- Training volume lowers as I get deeper in my cut and is the lowerst just after."
   ]
  },
  {
   "cell_type": "markdown",
   "id": "a226e5db",
   "metadata": {},
   "source": [
    "### Which months do I train most often?"
   ]
  },
  {
   "cell_type": "code",
   "execution_count": 29,
   "id": "921ac702",
   "metadata": {},
   "outputs": [],
   "source": [
    "def number_of_workouts(df):\n",
    "    unique_sessions = df['parsed_dates'].unique()\n",
    "    number_of_workouts = len(unique_sessions)\n",
    "    return number_of_workouts"
   ]
  },
  {
   "cell_type": "code",
   "execution_count": 30,
   "id": "aa50de87",
   "metadata": {},
   "outputs": [
    {
     "name": "stdout",
     "output_type": "stream",
     "text": [
      "98\n",
      "173\n",
      "247\n",
      "271\n",
      "283\n",
      "193\n",
      "170\n"
     ]
    }
   ],
   "source": [
    "# Number of workouts recored per year\n",
    "for year in range(2016, 2023):\n",
    "    print(number_of_workouts(workout_data_per_year[year])) "
   ]
  },
  {
   "cell_type": "code",
   "execution_count": 31,
   "id": "75f7c4be",
   "metadata": {
    "scrolled": true
   },
   "outputs": [
    {
     "data": {
      "text/plain": [
       "month\n",
       "1     116\n",
       "2     131\n",
       "3     148\n",
       "4     138\n",
       "5     172\n",
       "6     138\n",
       "7     110\n",
       "8      91\n",
       "9      87\n",
       "10    102\n",
       "11    106\n",
       "12     96\n",
       "dtype: int64"
      ]
     },
     "execution_count": 31,
     "metadata": {},
     "output_type": "execute_result"
    }
   ],
   "source": [
    "# Number of sessions per month\n",
    "workouts_per_month = training_data.groupby([training_data['month'], training_data['parsed_dates']]).count().groupby('month').size()\n",
    "\n",
    "workouts_per_month"
   ]
  },
  {
   "cell_type": "code",
   "execution_count": 32,
   "id": "83bcc2d1",
   "metadata": {},
   "outputs": [
    {
     "data": {
      "text/plain": [
       "<Figure size 1008x432 with 0 Axes>"
      ]
     },
     "execution_count": 32,
     "metadata": {},
     "output_type": "execute_result"
    },
    {
     "data": {
      "image/png": "[encoded data removed]",
      "text/plain": [
       "<Figure size 432x288 with 1 Axes>"
      ]
     },
     "metadata": {
      "needs_background": "light"
     },
     "output_type": "display_data"
    },
    {
     "data": {
      "text/plain": [
       "<Figure size 1008x432 with 0 Axes>"
      ]
     },
     "metadata": {},
     "output_type": "display_data"
    }
   ],
   "source": [
    "# Plot the number of sessions per month\n",
    "sns.barplot(x=workouts_per_month.index, y=workouts_per_month)\n",
    "plt.title(\"Number of workouts per month (2016-2022)\")\n",
    "plt.figure(figsize=(14,6))"
   ]
  },
  {
   "cell_type": "markdown",
   "id": "71f75eeb",
   "metadata": {},
   "source": [
    "Conclusion: "
   ]
  },
  {
   "cell_type": "markdown",
   "id": "efb55618",
   "metadata": {},
   "source": [
    "### Do I have a consistent workout routine?"
   ]
  },
  {
   "cell_type": "markdown",
   "id": "37b16992",
   "metadata": {},
   "source": [
    "You could compare the number of workouts you do per week, or the average duration of your workouts, over time to see if you have a consistent routine."
   ]
  },
  {
   "cell_type": "code",
   "execution_count": 33,
   "id": "567d88a5",
   "metadata": {},
   "outputs": [
    {
     "data": {
      "text/html": [
       "<div>\n",
       "<style scoped>\n",
       "    .dataframe tbody tr th:only-of-type {\n",
       "        vertical-align: middle;\n",
       "    }\n",
       "\n",
       "    .dataframe tbody tr th {\n",
       "        vertical-align: top;\n",
       "    }\n",
       "\n",
       "    .dataframe thead th {\n",
       "        text-align: right;\n",
       "    }\n",
       "</style>\n",
       "<table border=\"1\" class=\"dataframe\">\n",
       "  <thead>\n",
       "    <tr style=\"text-align: right;\">\n",
       "      <th></th>\n",
       "      <th>Datum</th>\n",
       "      <th>Övning</th>\n",
       "      <th>Vikt</th>\n",
       "      <th>Reps</th>\n",
       "      <th>Muskelgrupp</th>\n",
       "      <th>Kroppsvikt</th>\n",
       "      <th>parsed_dates</th>\n",
       "      <th>Volym</th>\n",
       "      <th>Chest</th>\n",
       "      <th>Back</th>\n",
       "      <th>...</th>\n",
       "      <th>Hamstrings</th>\n",
       "      <th>Quads &amp; Glutes</th>\n",
       "      <th>Delts</th>\n",
       "      <th>Abs</th>\n",
       "      <th>Calves</th>\n",
       "      <th>Traps</th>\n",
       "      <th>Set</th>\n",
       "      <th>year</th>\n",
       "      <th>month</th>\n",
       "      <th>week</th>\n",
       "    </tr>\n",
       "  </thead>\n",
       "  <tbody>\n",
       "    <tr>\n",
       "      <th>2401</th>\n",
       "      <td>2021-12-30 13:00</td>\n",
       "      <td>Pull Up</td>\n",
       "      <td>0.0</td>\n",
       "      <td>10.0</td>\n",
       "      <td>Back</td>\n",
       "      <td>84.35</td>\n",
       "      <td>2021-12-30 13:00:00</td>\n",
       "      <td>0.0</td>\n",
       "      <td>0</td>\n",
       "      <td>1</td>\n",
       "      <td>...</td>\n",
       "      <td>0</td>\n",
       "      <td>0</td>\n",
       "      <td>0</td>\n",
       "      <td>0</td>\n",
       "      <td>0</td>\n",
       "      <td>0</td>\n",
       "      <td>1</td>\n",
       "      <td>2021</td>\n",
       "      <td>12</td>\n",
       "      <td>52</td>\n",
       "    </tr>\n",
       "    <tr>\n",
       "      <th>2402</th>\n",
       "      <td>2021-12-30 13:00</td>\n",
       "      <td>Pull Up</td>\n",
       "      <td>0.0</td>\n",
       "      <td>7.0</td>\n",
       "      <td>Back</td>\n",
       "      <td>84.35</td>\n",
       "      <td>2021-12-30 13:00:00</td>\n",
       "      <td>0.0</td>\n",
       "      <td>0</td>\n",
       "      <td>1</td>\n",
       "      <td>...</td>\n",
       "      <td>0</td>\n",
       "      <td>0</td>\n",
       "      <td>0</td>\n",
       "      <td>0</td>\n",
       "      <td>0</td>\n",
       "      <td>0</td>\n",
       "      <td>1</td>\n",
       "      <td>2021</td>\n",
       "      <td>12</td>\n",
       "      <td>52</td>\n",
       "    </tr>\n",
       "    <tr>\n",
       "      <th>2403</th>\n",
       "      <td>2021-12-30 13:00</td>\n",
       "      <td>Dips</td>\n",
       "      <td>0.0</td>\n",
       "      <td>14.0</td>\n",
       "      <td>Triceps</td>\n",
       "      <td>84.35</td>\n",
       "      <td>2021-12-30 13:00:00</td>\n",
       "      <td>0.0</td>\n",
       "      <td>0</td>\n",
       "      <td>0</td>\n",
       "      <td>...</td>\n",
       "      <td>0</td>\n",
       "      <td>0</td>\n",
       "      <td>0</td>\n",
       "      <td>0</td>\n",
       "      <td>0</td>\n",
       "      <td>0</td>\n",
       "      <td>1</td>\n",
       "      <td>2021</td>\n",
       "      <td>12</td>\n",
       "      <td>52</td>\n",
       "    </tr>\n",
       "    <tr>\n",
       "      <th>2404</th>\n",
       "      <td>2021-12-30 13:00</td>\n",
       "      <td>Dips</td>\n",
       "      <td>0.0</td>\n",
       "      <td>12.0</td>\n",
       "      <td>Triceps</td>\n",
       "      <td>84.35</td>\n",
       "      <td>2021-12-30 13:00:00</td>\n",
       "      <td>0.0</td>\n",
       "      <td>0</td>\n",
       "      <td>0</td>\n",
       "      <td>...</td>\n",
       "      <td>0</td>\n",
       "      <td>0</td>\n",
       "      <td>0</td>\n",
       "      <td>0</td>\n",
       "      <td>0</td>\n",
       "      <td>0</td>\n",
       "      <td>1</td>\n",
       "      <td>2021</td>\n",
       "      <td>12</td>\n",
       "      <td>52</td>\n",
       "    </tr>\n",
       "    <tr>\n",
       "      <th>2405</th>\n",
       "      <td>2021-12-30 13:00</td>\n",
       "      <td>Seated Stack Leg Press</td>\n",
       "      <td>100.0</td>\n",
       "      <td>14.0</td>\n",
       "      <td>Quads &amp; Glutes</td>\n",
       "      <td>84.35</td>\n",
       "      <td>2021-12-30 13:00:00</td>\n",
       "      <td>1400.0</td>\n",
       "      <td>0</td>\n",
       "      <td>0</td>\n",
       "      <td>...</td>\n",
       "      <td>0</td>\n",
       "      <td>1</td>\n",
       "      <td>0</td>\n",
       "      <td>0</td>\n",
       "      <td>0</td>\n",
       "      <td>0</td>\n",
       "      <td>1</td>\n",
       "      <td>2021</td>\n",
       "      <td>12</td>\n",
       "      <td>52</td>\n",
       "    </tr>\n",
       "  </tbody>\n",
       "</table>\n",
       "<p>5 rows × 22 columns</p>\n",
       "</div>"
      ],
      "text/plain": [
       "                 Datum                  Övning   Vikt  Reps     Muskelgrupp  \\\n",
       "2401  2021-12-30 13:00                 Pull Up    0.0  10.0            Back   \n",
       "2402  2021-12-30 13:00                 Pull Up    0.0   7.0            Back   \n",
       "2403  2021-12-30 13:00                    Dips    0.0  14.0         Triceps   \n",
       "2404  2021-12-30 13:00                    Dips    0.0  12.0         Triceps   \n",
       "2405  2021-12-30 13:00  Seated Stack Leg Press  100.0  14.0  Quads & Glutes   \n",
       "\n",
       "      Kroppsvikt        parsed_dates   Volym  Chest  Back  ...  Hamstrings  \\\n",
       "2401       84.35 2021-12-30 13:00:00     0.0      0     1  ...           0   \n",
       "2402       84.35 2021-12-30 13:00:00     0.0      0     1  ...           0   \n",
       "2403       84.35 2021-12-30 13:00:00     0.0      0     0  ...           0   \n",
       "2404       84.35 2021-12-30 13:00:00     0.0      0     0  ...           0   \n",
       "2405       84.35 2021-12-30 13:00:00  1400.0      0     0  ...           0   \n",
       "\n",
       "      Quads & Glutes  Delts  Abs  Calves  Traps  Set  year  month  week  \n",
       "2401               0      0    0       0      0    1  2021     12    52  \n",
       "2402               0      0    0       0      0    1  2021     12    52  \n",
       "2403               0      0    0       0      0    1  2021     12    52  \n",
       "2404               0      0    0       0      0    1  2021     12    52  \n",
       "2405               1      0    0       0      0    1  2021     12    52  \n",
       "\n",
       "[5 rows x 22 columns]"
      ]
     },
     "execution_count": 33,
     "metadata": {},
     "output_type": "execute_result"
    }
   ],
   "source": [
    "# Include training data between 2017-2021 as those years have full years of data\n",
    "training_data_complete_years = training_data.loc[(training_data['year'] >= 2017) & (training_data['year'] <= 2021)]\n",
    "training_data_complete_years.head()"
   ]
  },
  {
   "cell_type": "code",
   "execution_count": 34,
   "id": "6e25c4d0",
   "metadata": {
    "scrolled": false
   },
   "outputs": [],
   "source": [
    "agg_data = training_data_complete_years.groupby(training_data_complete_years['week'], as_index=False).size()\n",
    "total_workouts = agg_data.sum()\n",
    "avg_workouts_per_week = total_workouts / (training_data_complete_years['week'].nunique())"
   ]
  },
  {
   "cell_type": "code",
   "execution_count": 35,
   "id": "fd3cd59f",
   "metadata": {},
   "outputs": [
    {
     "data": {
      "text/html": [
       "<div>\n",
       "<style scoped>\n",
       "    .dataframe tbody tr th:only-of-type {\n",
       "        vertical-align: middle;\n",
       "    }\n",
       "\n",
       "    .dataframe tbody tr th {\n",
       "        vertical-align: top;\n",
       "    }\n",
       "\n",
       "    .dataframe thead th {\n",
       "        text-align: right;\n",
       "    }\n",
       "</style>\n",
       "<table border=\"1\" class=\"dataframe\">\n",
       "  <thead>\n",
       "    <tr style=\"text-align: right;\">\n",
       "      <th></th>\n",
       "      <th>Datum</th>\n",
       "      <th>Övning</th>\n",
       "      <th>Vikt</th>\n",
       "      <th>Reps</th>\n",
       "      <th>Muskelgrupp</th>\n",
       "      <th>Kroppsvikt</th>\n",
       "      <th>parsed_dates</th>\n",
       "      <th>Volym</th>\n",
       "      <th>Chest</th>\n",
       "      <th>Back</th>\n",
       "      <th>...</th>\n",
       "      <th>Biceps</th>\n",
       "      <th>Hamstrings</th>\n",
       "      <th>Quads &amp; Glutes</th>\n",
       "      <th>Delts</th>\n",
       "      <th>Abs</th>\n",
       "      <th>Calves</th>\n",
       "      <th>Traps</th>\n",
       "      <th>Set</th>\n",
       "      <th>year</th>\n",
       "      <th>month</th>\n",
       "    </tr>\n",
       "    <tr>\n",
       "      <th>week</th>\n",
       "      <th></th>\n",
       "      <th></th>\n",
       "      <th></th>\n",
       "      <th></th>\n",
       "      <th></th>\n",
       "      <th></th>\n",
       "      <th></th>\n",
       "      <th></th>\n",
       "      <th></th>\n",
       "      <th></th>\n",
       "      <th></th>\n",
       "      <th></th>\n",
       "      <th></th>\n",
       "      <th></th>\n",
       "      <th></th>\n",
       "      <th></th>\n",
       "      <th></th>\n",
       "      <th></th>\n",
       "      <th></th>\n",
       "      <th></th>\n",
       "      <th></th>\n",
       "    </tr>\n",
       "  </thead>\n",
       "  <tbody>\n",
       "    <tr>\n",
       "      <th>1</th>\n",
       "      <td>16</td>\n",
       "      <td>59</td>\n",
       "      <td>46</td>\n",
       "      <td>24</td>\n",
       "      <td>9</td>\n",
       "      <td>10</td>\n",
       "      <td>16</td>\n",
       "      <td>114</td>\n",
       "      <td>2</td>\n",
       "      <td>2</td>\n",
       "      <td>...</td>\n",
       "      <td>2</td>\n",
       "      <td>2</td>\n",
       "      <td>2</td>\n",
       "      <td>2</td>\n",
       "      <td>2</td>\n",
       "      <td>2</td>\n",
       "      <td>1</td>\n",
       "      <td>1</td>\n",
       "      <td>4</td>\n",
       "      <td>2</td>\n",
       "    </tr>\n",
       "    <tr>\n",
       "      <th>2</th>\n",
       "      <td>25</td>\n",
       "      <td>74</td>\n",
       "      <td>56</td>\n",
       "      <td>25</td>\n",
       "      <td>9</td>\n",
       "      <td>12</td>\n",
       "      <td>25</td>\n",
       "      <td>158</td>\n",
       "      <td>2</td>\n",
       "      <td>2</td>\n",
       "      <td>...</td>\n",
       "      <td>2</td>\n",
       "      <td>2</td>\n",
       "      <td>2</td>\n",
       "      <td>2</td>\n",
       "      <td>2</td>\n",
       "      <td>2</td>\n",
       "      <td>1</td>\n",
       "      <td>1</td>\n",
       "      <td>5</td>\n",
       "      <td>1</td>\n",
       "    </tr>\n",
       "    <tr>\n",
       "      <th>3</th>\n",
       "      <td>26</td>\n",
       "      <td>81</td>\n",
       "      <td>53</td>\n",
       "      <td>22</td>\n",
       "      <td>9</td>\n",
       "      <td>13</td>\n",
       "      <td>26</td>\n",
       "      <td>158</td>\n",
       "      <td>2</td>\n",
       "      <td>2</td>\n",
       "      <td>...</td>\n",
       "      <td>2</td>\n",
       "      <td>2</td>\n",
       "      <td>2</td>\n",
       "      <td>2</td>\n",
       "      <td>2</td>\n",
       "      <td>2</td>\n",
       "      <td>1</td>\n",
       "      <td>1</td>\n",
       "      <td>5</td>\n",
       "      <td>1</td>\n",
       "    </tr>\n",
       "    <tr>\n",
       "      <th>4</th>\n",
       "      <td>23</td>\n",
       "      <td>80</td>\n",
       "      <td>45</td>\n",
       "      <td>22</td>\n",
       "      <td>10</td>\n",
       "      <td>10</td>\n",
       "      <td>23</td>\n",
       "      <td>121</td>\n",
       "      <td>2</td>\n",
       "      <td>2</td>\n",
       "      <td>...</td>\n",
       "      <td>2</td>\n",
       "      <td>2</td>\n",
       "      <td>2</td>\n",
       "      <td>2</td>\n",
       "      <td>2</td>\n",
       "      <td>2</td>\n",
       "      <td>1</td>\n",
       "      <td>1</td>\n",
       "      <td>5</td>\n",
       "      <td>1</td>\n",
       "    </tr>\n",
       "    <tr>\n",
       "      <th>5</th>\n",
       "      <td>21</td>\n",
       "      <td>72</td>\n",
       "      <td>49</td>\n",
       "      <td>24</td>\n",
       "      <td>10</td>\n",
       "      <td>8</td>\n",
       "      <td>21</td>\n",
       "      <td>141</td>\n",
       "      <td>2</td>\n",
       "      <td>2</td>\n",
       "      <td>...</td>\n",
       "      <td>2</td>\n",
       "      <td>2</td>\n",
       "      <td>2</td>\n",
       "      <td>2</td>\n",
       "      <td>2</td>\n",
       "      <td>2</td>\n",
       "      <td>1</td>\n",
       "      <td>1</td>\n",
       "      <td>4</td>\n",
       "      <td>2</td>\n",
       "    </tr>\n",
       "  </tbody>\n",
       "</table>\n",
       "<p>5 rows × 21 columns</p>\n",
       "</div>"
      ],
      "text/plain": [
       "      Datum  Övning  Vikt  Reps  Muskelgrupp  Kroppsvikt  parsed_dates  Volym  \\\n",
       "week                                                                            \n",
       "1        16      59    46    24            9          10            16    114   \n",
       "2        25      74    56    25            9          12            25    158   \n",
       "3        26      81    53    22            9          13            26    158   \n",
       "4        23      80    45    22           10          10            23    121   \n",
       "5        21      72    49    24           10           8            21    141   \n",
       "\n",
       "      Chest  Back  ...  Biceps  Hamstrings  Quads & Glutes  Delts  Abs  \\\n",
       "week               ...                                                   \n",
       "1         2     2  ...       2           2               2      2    2   \n",
       "2         2     2  ...       2           2               2      2    2   \n",
       "3         2     2  ...       2           2               2      2    2   \n",
       "4         2     2  ...       2           2               2      2    2   \n",
       "5         2     2  ...       2           2               2      2    2   \n",
       "\n",
       "      Calves  Traps  Set  year  month  \n",
       "week                                   \n",
       "1          2      1    1     4      2  \n",
       "2          2      1    1     5      1  \n",
       "3          2      1    1     5      1  \n",
       "4          2      1    1     5      1  \n",
       "5          2      1    1     4      2  \n",
       "\n",
       "[5 rows x 21 columns]"
      ]
     },
     "execution_count": 35,
     "metadata": {},
     "output_type": "execute_result"
    }
   ],
   "source": [
    "# \"Datum\" becomes the number of unique session as it represents unique days (each day is a session)\n",
    "agg_data = training_data_complete_years.groupby(['week']).nunique()\n",
    "agg_data.head()"
   ]
  },
  {
   "cell_type": "code",
   "execution_count": 36,
   "id": "af78c06d",
   "metadata": {},
   "outputs": [],
   "source": [
    "# Create an column for average workouts per week by splitting by the number of years of accumulated data (5)\n",
    "agg_data['Avg. num workouts per week'] = agg_data['Datum'] / 5"
   ]
  },
  {
   "cell_type": "code",
   "execution_count": 37,
   "id": "3b3f0ab3",
   "metadata": {},
   "outputs": [
    {
     "data": {
      "text/html": [
       "<div>\n",
       "<style scoped>\n",
       "    .dataframe tbody tr th:only-of-type {\n",
       "        vertical-align: middle;\n",
       "    }\n",
       "\n",
       "    .dataframe tbody tr th {\n",
       "        vertical-align: top;\n",
       "    }\n",
       "\n",
       "    .dataframe thead th {\n",
       "        text-align: right;\n",
       "    }\n",
       "</style>\n",
       "<table border=\"1\" class=\"dataframe\">\n",
       "  <thead>\n",
       "    <tr style=\"text-align: right;\">\n",
       "      <th></th>\n",
       "      <th>Datum</th>\n",
       "      <th>Övning</th>\n",
       "      <th>Vikt</th>\n",
       "      <th>Reps</th>\n",
       "      <th>Muskelgrupp</th>\n",
       "      <th>Kroppsvikt</th>\n",
       "      <th>parsed_dates</th>\n",
       "      <th>Volym</th>\n",
       "      <th>Chest</th>\n",
       "      <th>Back</th>\n",
       "      <th>...</th>\n",
       "      <th>Hamstrings</th>\n",
       "      <th>Quads &amp; Glutes</th>\n",
       "      <th>Delts</th>\n",
       "      <th>Abs</th>\n",
       "      <th>Calves</th>\n",
       "      <th>Traps</th>\n",
       "      <th>Set</th>\n",
       "      <th>year</th>\n",
       "      <th>month</th>\n",
       "      <th>Avg. num workouts per week</th>\n",
       "    </tr>\n",
       "    <tr>\n",
       "      <th>week</th>\n",
       "      <th></th>\n",
       "      <th></th>\n",
       "      <th></th>\n",
       "      <th></th>\n",
       "      <th></th>\n",
       "      <th></th>\n",
       "      <th></th>\n",
       "      <th></th>\n",
       "      <th></th>\n",
       "      <th></th>\n",
       "      <th></th>\n",
       "      <th></th>\n",
       "      <th></th>\n",
       "      <th></th>\n",
       "      <th></th>\n",
       "      <th></th>\n",
       "      <th></th>\n",
       "      <th></th>\n",
       "      <th></th>\n",
       "      <th></th>\n",
       "      <th></th>\n",
       "    </tr>\n",
       "  </thead>\n",
       "  <tbody>\n",
       "    <tr>\n",
       "      <th>1</th>\n",
       "      <td>16</td>\n",
       "      <td>59</td>\n",
       "      <td>46</td>\n",
       "      <td>24</td>\n",
       "      <td>9</td>\n",
       "      <td>10</td>\n",
       "      <td>16</td>\n",
       "      <td>114</td>\n",
       "      <td>2</td>\n",
       "      <td>2</td>\n",
       "      <td>...</td>\n",
       "      <td>2</td>\n",
       "      <td>2</td>\n",
       "      <td>2</td>\n",
       "      <td>2</td>\n",
       "      <td>2</td>\n",
       "      <td>1</td>\n",
       "      <td>1</td>\n",
       "      <td>4</td>\n",
       "      <td>2</td>\n",
       "      <td>3.2</td>\n",
       "    </tr>\n",
       "    <tr>\n",
       "      <th>2</th>\n",
       "      <td>25</td>\n",
       "      <td>74</td>\n",
       "      <td>56</td>\n",
       "      <td>25</td>\n",
       "      <td>9</td>\n",
       "      <td>12</td>\n",
       "      <td>25</td>\n",
       "      <td>158</td>\n",
       "      <td>2</td>\n",
       "      <td>2</td>\n",
       "      <td>...</td>\n",
       "      <td>2</td>\n",
       "      <td>2</td>\n",
       "      <td>2</td>\n",
       "      <td>2</td>\n",
       "      <td>2</td>\n",
       "      <td>1</td>\n",
       "      <td>1</td>\n",
       "      <td>5</td>\n",
       "      <td>1</td>\n",
       "      <td>5.0</td>\n",
       "    </tr>\n",
       "    <tr>\n",
       "      <th>3</th>\n",
       "      <td>26</td>\n",
       "      <td>81</td>\n",
       "      <td>53</td>\n",
       "      <td>22</td>\n",
       "      <td>9</td>\n",
       "      <td>13</td>\n",
       "      <td>26</td>\n",
       "      <td>158</td>\n",
       "      <td>2</td>\n",
       "      <td>2</td>\n",
       "      <td>...</td>\n",
       "      <td>2</td>\n",
       "      <td>2</td>\n",
       "      <td>2</td>\n",
       "      <td>2</td>\n",
       "      <td>2</td>\n",
       "      <td>1</td>\n",
       "      <td>1</td>\n",
       "      <td>5</td>\n",
       "      <td>1</td>\n",
       "      <td>5.2</td>\n",
       "    </tr>\n",
       "    <tr>\n",
       "      <th>4</th>\n",
       "      <td>23</td>\n",
       "      <td>80</td>\n",
       "      <td>45</td>\n",
       "      <td>22</td>\n",
       "      <td>10</td>\n",
       "      <td>10</td>\n",
       "      <td>23</td>\n",
       "      <td>121</td>\n",
       "      <td>2</td>\n",
       "      <td>2</td>\n",
       "      <td>...</td>\n",
       "      <td>2</td>\n",
       "      <td>2</td>\n",
       "      <td>2</td>\n",
       "      <td>2</td>\n",
       "      <td>2</td>\n",
       "      <td>1</td>\n",
       "      <td>1</td>\n",
       "      <td>5</td>\n",
       "      <td>1</td>\n",
       "      <td>4.6</td>\n",
       "    </tr>\n",
       "    <tr>\n",
       "      <th>5</th>\n",
       "      <td>21</td>\n",
       "      <td>72</td>\n",
       "      <td>49</td>\n",
       "      <td>24</td>\n",
       "      <td>10</td>\n",
       "      <td>8</td>\n",
       "      <td>21</td>\n",
       "      <td>141</td>\n",
       "      <td>2</td>\n",
       "      <td>2</td>\n",
       "      <td>...</td>\n",
       "      <td>2</td>\n",
       "      <td>2</td>\n",
       "      <td>2</td>\n",
       "      <td>2</td>\n",
       "      <td>2</td>\n",
       "      <td>1</td>\n",
       "      <td>1</td>\n",
       "      <td>4</td>\n",
       "      <td>2</td>\n",
       "      <td>4.2</td>\n",
       "    </tr>\n",
       "  </tbody>\n",
       "</table>\n",
       "<p>5 rows × 22 columns</p>\n",
       "</div>"
      ],
      "text/plain": [
       "      Datum  Övning  Vikt  Reps  Muskelgrupp  Kroppsvikt  parsed_dates  Volym  \\\n",
       "week                                                                            \n",
       "1        16      59    46    24            9          10            16    114   \n",
       "2        25      74    56    25            9          12            25    158   \n",
       "3        26      81    53    22            9          13            26    158   \n",
       "4        23      80    45    22           10          10            23    121   \n",
       "5        21      72    49    24           10           8            21    141   \n",
       "\n",
       "      Chest  Back  ...  Hamstrings  Quads & Glutes  Delts  Abs  Calves  Traps  \\\n",
       "week               ...                                                          \n",
       "1         2     2  ...           2               2      2    2       2      1   \n",
       "2         2     2  ...           2               2      2    2       2      1   \n",
       "3         2     2  ...           2               2      2    2       2      1   \n",
       "4         2     2  ...           2               2      2    2       2      1   \n",
       "5         2     2  ...           2               2      2    2       2      1   \n",
       "\n",
       "      Set  year  month  Avg. num workouts per week  \n",
       "week                                                \n",
       "1       1     4      2                         3.2  \n",
       "2       1     5      1                         5.0  \n",
       "3       1     5      1                         5.2  \n",
       "4       1     5      1                         4.6  \n",
       "5       1     4      2                         4.2  \n",
       "\n",
       "[5 rows x 22 columns]"
      ]
     },
     "execution_count": 37,
     "metadata": {},
     "output_type": "execute_result"
    }
   ],
   "source": [
    "agg_data.head()"
   ]
  },
  {
   "cell_type": "code",
   "execution_count": 38,
   "id": "92efa423",
   "metadata": {
    "scrolled": false
   },
   "outputs": [
    {
     "data": {
      "text/plain": [
       "<AxesSubplot:title={'center':'Average Weekly Number of Workout Sessions Between 2017-2021'}, xlabel='week', ylabel='Avg. num workouts per week'>"
      ]
     },
     "execution_count": 38,
     "metadata": {},
     "output_type": "execute_result"
    },
    {
     "data": {
      "image/png": "[encoded data removed]",
      "text/plain": [
       "<Figure size 1008x432 with 1 Axes>"
      ]
     },
     "metadata": {
      "needs_background": "light"
     },
     "output_type": "display_data"
    }
   ],
   "source": [
    "# Combine the weekly workout sessions per week over the years to produce the average sessions per week\n",
    "x_ticks = [i for i in range(0, 60, 5)]\n",
    "plt.figure(figsize=(14,6))\n",
    "plt.title(\"Average Weekly Number of Workout Sessions Between 2017-2021\")\n",
    "plt.xticks(x_ticks)\n",
    "plt.grid()\n",
    "sns.lineplot(x=agg_data.index, y=agg_data['Avg. num workouts per week'])"
   ]
  },
  {
   "cell_type": "code",
   "execution_count": 53,
   "id": "adb88d4a",
   "metadata": {},
   "outputs": [
    {
     "data": {
      "image/png": "[encoded data removed]",
      "text/plain": [
       "<Figure size 1008x576 with 1 Axes>"
      ]
     },
     "metadata": {
      "needs_background": "light"
     },
     "output_type": "display_data"
    }
   ],
   "source": [
    "grouped = training_data_complete_years.groupby(['year', 'week'])['Datum'].nunique().reset_index()\n",
    "x_ticks = [i for i in range(0, 60, 5)]\n",
    "\n",
    "\n",
    "grouped['Avg. num workouts per week'] = (grouped['Datum'] / grouped['week'].nunique())\n",
    "\n",
    "plt.figure(figsize=(14, 8))\n",
    "for year, group in grouped.groupby('year'):\n",
    "    group['Datum'] = group['Datum'] \n",
    "    sns.lineplot(x=group['week'], y=group['Datum'], label=str(year))\n",
    "    \n",
    "plt.xlabel('Week')\n",
    "plt.ylabel('Number of workouts') \n",
    "plt.xticks(x_ticks)\n",
    "plt.grid()\n",
    "plt.title('Number of weekly workout sessions by year')\n",
    "plt.legend()\n",
    "plt.show()"
   ]
  },
  {
   "cell_type": "code",
   "execution_count": 56,
   "id": "951e756a",
   "metadata": {},
   "outputs": [
    {
     "data": {
      "text/plain": [
       "46.68"
      ]
     },
     "execution_count": 56,
     "metadata": {},
     "output_type": "execute_result"
    }
   ],
   "source": [
    "# TODO Get descriptive stats for my workout sessions (mean, range, std. dev, median)\n",
    "mean = (agg_data['Avg. num workouts per week'].sum()) / 5\n",
    "mean"
   ]
  },
  {
   "cell_type": "markdown",
   "id": "6219e0c9",
   "metadata": {},
   "source": [
    "Conclusion: My tr"
   ]
  }
 ],
 "metadata": {
  "kernelspec": {
   "display_name": "Python 3",
   "language": "python",
   "name": "python3"
  },
  "language_info": {
   "codemirror_mode": {
    "name": "ipython",
    "version": 3
   },
   "file_extension": ".py",
   "mimetype": "text/x-python",
   "name": "python",
   "nbconvert_exporter": "python",
   "pygments_lexer": "ipython3",
   "version": "3.8.8"
  }
 },
 "nbformat": 4,
 "nbformat_minor": 5
}
